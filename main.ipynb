{
 "cells": [
  {
   "cell_type": "code",
   "execution_count": 1,
   "metadata": {},
   "outputs": [],
   "source": [
    "import numpy as np\n",
    "import matplotlib.pyplot as plt\n",
    "import pandas as pd\n",
    "import seaborn as sns\n",
    "\n",
    "from modules import markdown as md\n",
    "\n",
    "plt.style.use(\"ggplot\")"
   ]
  },
  {
   "cell_type": "markdown",
   "metadata": {},
   "source": [
    "# Matriz legal\n",
    "\n",
    "<table><thead><th>Norma</th><th>Descripción</th><th>Obligaciones</th><th>Entidad reguladora</th><th>Acciones necesarias</th></thead><tbody><tr><td>Resolución 0472 de 2017</td><td>Se reglamenta la gestión integral de los residuos generados en las actividades de construcción y demolición - RCD</td><td><ul><li>Priorizar el aprovechamiento de los RCD frente a su disposición final.</li><li>Formular, implementar y mantener actualizada la MMA de RCD</li></ul></td><td>Ministerio de ambiente y desarrollo sostenible</td><td>Actualizar la MMA para la correcta gestión de RCD</td></tr><tr><td>Resolución 1257 de 2021</td><td>Se actualiza la Resolución 0472 de 2017 con nuevas definiciones y objetivos de aprovechamiento</td><td><ul><li>Metas de aprovechamiento en función de la categoría del municipio.</li><li>Reportes trimestrales de la implementación de la MMA de RCD</li></ul></td><td>Ministerio de ambiente y desarrollo sostenible</td><td><ul><li>Cumplir las metas de aprovechamiento solicitadas</li><li>Informe trimestral de seguimiento del PMA de RCD para grandes generadores</li></ul></td></tr></tbody></table>"
   ]
  },
  {
   "cell_type": "code",
   "execution_count": 2,
   "metadata": {},
   "outputs": [
    {
     "name": "stdout",
     "output_type": "stream",
     "text": [
      "<table><thead><th>Norma</th><th>Descripción</th><th>Obligaciones</th><th>Entidad reguladora</th><th>Acciones necesarias</th></thead><tbody><tr><td>Resolución 0472 de 2017</td><td>Se reglamenta la gestión integral de los residuos generados en las actividades de construcción y demolición - RCD</td><td><ul><li>Priorizar el aprovechamiento de los RCD frente a su disposición final.</li><li>Formular, implementar y mantener actualizada la MMA de RCD</li></ul></td><td>Ministerio de ambiente y desarrollo sostenible</td><td>Actualizar la MMA para la correcta gestión de RCD</td></tr><tr><td>Resolución 1257 de 2021</td><td>Se actualiza la Resolución 0472 de 2017 con nuevas definiciones y objetivos de aprovechamiento</td><td><ul><li>Metas de aprovechamiento en función de la categoría del municipio.</li><li>Reportes trimestrales de la implementación de la MMA de RCD</li></ul></td><td>Ministerio de ambiente y desarrollo sostenible</td><td><ul><li>Cumplir las metas de aprovechamiento solicitadas</li><li>Informe trimestral de seguimiento del PMA de RCD para grandes generadores</li></ul></td></tr></tbody></table>\n"
     ]
    }
   ],
   "source": [
    "ml = pd.read_csv(\"./data/matrizLegal.csv\")\n",
    "\n",
    "md.tableHTML(ml)"
   ]
  }
 ],
 "metadata": {
  "kernelspec": {
   "display_name": "rcd",
   "language": "python",
   "name": "python3"
  },
  "language_info": {
   "codemirror_mode": {
    "name": "ipython",
    "version": 3
   },
   "file_extension": ".py",
   "mimetype": "text/x-python",
   "name": "python",
   "nbconvert_exporter": "python",
   "pygments_lexer": "ipython3",
   "version": "3.12.7"
  }
 },
 "nbformat": 4,
 "nbformat_minor": 2
}
